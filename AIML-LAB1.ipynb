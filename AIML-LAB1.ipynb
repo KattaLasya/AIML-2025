{
  "nbformat": 4,
  "nbformat_minor": 0,
  "metadata": {
    "colab": {
      "provenance": [],
      "authorship_tag": "ABX9TyPu6DUcksS7C5C4XjuP5U3c",
      "include_colab_link": true
    },
    "kernelspec": {
      "name": "python3",
      "display_name": "Python 3"
    },
    "language_info": {
      "name": "python"
    }
  },
  "cells": [
    {
      "cell_type": "markdown",
      "metadata": {
        "id": "view-in-github",
        "colab_type": "text"
      },
      "source": [
        "<a href=\"https://colab.research.google.com/github/KattaLasya/AIML-2025/blob/main/AIML-LAB1.ipynb\" target=\"_parent\"><img src=\"https://colab.research.google.com/assets/colab-badge.svg\" alt=\"Open In Colab\"/></a>"
      ]
    },
    {
      "cell_type": "code",
      "execution_count": 9,
      "metadata": {
        "id": "Vv0V9YnzTBw0",
        "outputId": "389e8e87-9bbb-469a-b055-d25a6702e199",
        "colab": {
          "base_uri": "https://localhost:8080/"
        }
      },
      "outputs": [
        {
          "output_type": "stream",
          "name": "stdout",
          "text": [
            "List: [1, 2, 3, 4, 5]\n",
            "Array1: [1 2 3 4 5]\n",
            "Array2: [ 6  7  8  9 10]\n",
            "Type of my list: <class 'list'>\n",
            "Addition: [ 7  9 11 13 15]\n",
            "Subtraction: [-5 -5 -5 -5 -5]\n",
            "Multiplication: [ 6 14 24 36 50]\n",
            "Division: [0.16666667 0.28571429 0.375      0.44444444 0.5       ]\n",
            "Addition of two arrays:array1+array2=[ 7  9 11 13 15]\n",
            "Sine of array1: [ 0.84147098  0.90929743  0.14112001 -0.7568025  -0.95892427]\n",
            "Log of array1: [0.         0.69314718 1.09861229 1.38629436 1.60943791]\n",
            "Exponential of array1: [  2.71828183   7.3890561   20.08553692  54.59815003 148.4131591 ]\n"
          ]
        }
      ],
      "source": [
        "import numpy as np\n",
        "list=[1,2,3,4,5]\n",
        "print(\"List:\",list)\n",
        "#2\n",
        "array1=np.array([1,2,3,4,5])\n",
        "array2=np.array([6,7,8,9,10])\n",
        "print(\"Array1:\",array1)\n",
        "print(\"Array2:\",array2)\n",
        "#3\n",
        "print(\"Type of my list:\",type(list))\n",
        "#4\n",
        "a=array1+array2\n",
        "print(\"Addition:\",a)\n",
        "b=array1-array2\n",
        "print(\"Subtraction:\",b)\n",
        "c=array1*array2\n",
        "print(\"Multiplication:\",c)\n",
        "d=array1/array2\n",
        "print(\"Division:\",d)\n",
        "#5\n",
        "addition_result=array1+array2\n",
        "print(f\"Addition of two arrays:array1+array2={addition_result}\")\n",
        "#6\n",
        "sin_values=np.sin(array1)\n",
        "print(\"Sine of array1:\",sin_values)\n",
        "log_values=np.log(array1)\n",
        "print(\"Log of array1:\",log_values)\n",
        "exp_values=np.exp(array1)\n",
        "print(\"Exponential of array1:\",exp_values)"
      ]
    }
  ]
}