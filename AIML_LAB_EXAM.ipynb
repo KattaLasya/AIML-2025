{
  "nbformat": 4,
  "nbformat_minor": 0,
  "metadata": {
    "colab": {
      "provenance": [],
      "authorship_tag": "ABX9TyN+LzQA2hxWu+1QsZ7aLoDe",
      "include_colab_link": true
    },
    "kernelspec": {
      "name": "python3",
      "display_name": "Python 3"
    },
    "language_info": {
      "name": "python"
    }
  },
  "cells": [
    {
      "cell_type": "markdown",
      "metadata": {
        "id": "view-in-github",
        "colab_type": "text"
      },
      "source": [
        "<a href=\"https://colab.research.google.com/github/KattaLasya/AIML-2025/blob/main/AIML_LAB_EXAM.ipynb\" target=\"_parent\"><img src=\"https://colab.research.google.com/assets/colab-badge.svg\" alt=\"Open In Colab\"/></a>"
      ]
    },
    {
      "cell_type": "markdown",
      "source": [
        "Question number 13\n",
        "Prediction of bike rentals and sharing\n",
        "1. Identify the top 5 days when rentals are most\n",
        "2. Predict the holidays when bike sharing was most\n",
        "3. Top 5 reasons for bike sharing or rentals\n",
        "4. Name the weather condition most suitable for bike rentals\n",
        "5. Identify the hourly illustration of bike rentals and sharing the most"
      ],
      "metadata": {
        "id": "zjNshZsP23pv"
      }
    },
    {
      "cell_type": "code",
      "source": [
        "import pandas as pd\n",
        "import matplotlib.pyplot as plt"
      ],
      "metadata": {
        "id": "K2A5FsBl6l9o"
      },
      "execution_count": 19,
      "outputs": []
    },
    {
      "cell_type": "code",
      "source": [
        "day_data = pd.read_csv(\"/content/day.csv\")\n",
        "hour_data = pd.read_csv(\"/content/hour.csv\")"
      ],
      "metadata": {
        "id": "CTSC7aH46rxo"
      },
      "execution_count": 20,
      "outputs": []
    },
    {
      "cell_type": "code",
      "source": [
        "#1.Identify the top 5 days when rentals are most\n",
        "top_5_days = day_data.nlargest(5, 'cnt')[['dteday', 'cnt']]\n",
        "print(\"Top 5 Days with Most Rentals:\")\n",
        "print(top_5_days)"
      ],
      "metadata": {
        "colab": {
          "base_uri": "https://localhost:8080/"
        },
        "id": "O-yQ0Tf_-jst",
        "outputId": "37ad9fff-203b-4597-ca91-9e2b50e0967e"
      },
      "execution_count": 21,
      "outputs": [
        {
          "output_type": "stream",
          "name": "stdout",
          "text": [
            "Top 5 Days with Most Rentals:\n",
            "         dteday   cnt\n",
            "623  2012-09-15  8714\n",
            "637  2012-09-29  8555\n",
            "630  2012-09-22  8395\n",
            "447  2012-03-23  8362\n",
            "504  2012-05-19  8294\n"
          ]
        }
      ]
    },
    {
      "cell_type": "code",
      "source": [
        "#2. Predict the holidays when bike sharing was most\n",
        "holiday_rentals = day_data[day_data['holiday'] == 1].nlargest(5, 'cnt')[['dteday', 'cnt']]\n",
        "print(\"\\nTop 5 Holidays with Most Rentals:\")\n",
        "print(holiday_rentals)"
      ],
      "metadata": {
        "colab": {
          "base_uri": "https://localhost:8080/"
        },
        "id": "20ckyzhv-re6",
        "outputId": "ae085fb3-d13f-47d2-90c4-b02176f6300f"
      },
      "execution_count": 22,
      "outputs": [
        {
          "output_type": "stream",
          "name": "stdout",
          "text": [
            "\n",
            "Top 5 Holidays with Most Rentals:\n",
            "         dteday   cnt\n",
            "550  2012-07-04  7403\n",
            "471  2012-04-16  6370\n",
            "681  2012-11-12  6269\n",
            "184  2011-07-04  6043\n",
            "513  2012-05-28  6043\n"
          ]
        }
      ]
    },
    {
      "cell_type": "code",
      "source": [
        "#3.Top 5 reasons for bike sharing or rentals\n",
        "correlations = day_data[['cnt', 'temp', 'atemp', 'hum', 'windspeed', 'workingday']].corr()\n",
        "reasons = correlations['cnt'].abs().sort_values(ascending=False)[1:6]\n",
        "print(\"\\nTop 5 Reasons for Bike Rentals (Correlation):\")\n",
        "print(reasons)"
      ],
      "metadata": {
        "colab": {
          "base_uri": "https://localhost:8080/"
        },
        "id": "MZjRrQHA-ueQ",
        "outputId": "57e376fa-d902-461f-8d36-ff9056366215"
      },
      "execution_count": 23,
      "outputs": [
        {
          "output_type": "stream",
          "name": "stdout",
          "text": [
            "\n",
            "Top 5 Reasons for Bike Rentals (Correlation):\n",
            "atemp         0.631066\n",
            "temp          0.627494\n",
            "windspeed     0.234545\n",
            "hum           0.100659\n",
            "workingday    0.061156\n",
            "Name: cnt, dtype: float64\n"
          ]
        }
      ]
    },
    {
      "cell_type": "code",
      "source": [
        "#4.Name the weather condition most suitable for bike rentals\n",
        "weather_avg = day_data.groupby('weathersit')['cnt'].mean()\n",
        "best_weather = weather_avg.idxmax()\n",
        "print(\"\\nWeather Condition Most Suitable for Rentals:\")\n",
        "print(f\"Weather Situation {best_weather} with average rentals of {weather_avg[best_weather]:.2f}\")"
      ],
      "metadata": {
        "colab": {
          "base_uri": "https://localhost:8080/"
        },
        "id": "btpAIKUN-xMX",
        "outputId": "93e26b84-a362-4b16-a57c-0bdc3b83dfc5"
      },
      "execution_count": 24,
      "outputs": [
        {
          "output_type": "stream",
          "name": "stdout",
          "text": [
            "\n",
            "Weather Condition Most Suitable for Rentals:\n",
            "Weather Situation 1 with average rentals of 4876.79\n"
          ]
        }
      ]
    },
    {
      "cell_type": "code",
      "source": [
        "#5. Identify the hourly illustration of bike rentals and sharing the most\n",
        "hourly_trend = hour_data.groupby('hr')['cnt'].mean()\n",
        "plt.figure(figsize=(10, 6))\n",
        "hourly_trend.plot(kind='bar', color='skyblue')\n",
        "plt.title('Average Hourly Bike Rentals')\n",
        "plt.xlabel('Hour of the Day')\n",
        "plt.ylabel('Average Rentals')\n",
        "plt.xticks(rotation=0)\n",
        "plt.show()"
      ],
      "metadata": {
        "colab": {
          "base_uri": "https://localhost:8080/",
          "height": 564
        },
        "id": "sTKxMBlr-z8j",
        "outputId": "70d95819-79e0-491e-e188-ebafac43c95f"
      },
      "execution_count": 25,
      "outputs": [
        {
          "output_type": "display_data",
          "data": {
            "text/plain": [
              "<Figure size 1000x600 with 1 Axes>"
            ],
            "image/png": "[encoded data removed]"
          },
          "metadata": {}
        }
      ]
    }
  ]
}